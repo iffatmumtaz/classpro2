{
  "nbformat": 4,
  "nbformat_minor": 0,
  "metadata": {
    "colab": {
      "provenance": [],
      "authorship_tag": "ABX9TyOUCxsVlshL6fnPgvamlWqV",
      "include_colab_link": true
    },
    "kernelspec": {
      "name": "python3",
      "display_name": "Python 3"
    },
    "language_info": {
      "name": "python"
    }
  },
  "cells": [
    {
      "cell_type": "markdown",
      "metadata": {
        "id": "view-in-github",
        "colab_type": "text"
      },
      "source": [
        "<a href=\"https://colab.research.google.com/github/iffatmumtaz/classpro2/blob/main/probsolving.ipynb\" target=\"_parent\"><img src=\"https://colab.research.google.com/assets/colab-badge.svg\" alt=\"Open In Colab\"/></a>"
      ]
    },
    {
      "cell_type": "markdown",
      "source": [
        "Problem 1: Reverse a String..hm ek string lengy aur usko ulta karngy.\n",
        "Python me string ko ulta karne ke liye slicing ka shortcut hai:\n",
        "string[::-1]\n",
        "\n"
      ],
      "metadata": {
        "id": "_OVyQOAsnQuV"
      }
    },
    {
      "cell_type": "code",
      "execution_count": 1,
      "metadata": {
        "colab": {
          "base_uri": "https://localhost:8080/"
        },
        "id": "mCet3CqynJSh",
        "outputId": "a040c793-c84a-458a-8e4e-1901428afe0c"
      },
      "outputs": [
        {
          "output_type": "stream",
          "name": "stdout",
          "text": [
            "olleh\n"
          ]
        }
      ],
      "source": [
        "def reverse_string(s):\n",
        "    return s[::-1]\n",
        "\n",
        "\n",
        "print(reverse_string(\"hello\"))\n"
      ]
    },
    {
      "cell_type": "markdown",
      "source": [
        "Problem 2: Count Vowels in a String..hmen string me jitne vowels hain unka count nikalna hai ..Har letter check karo agar vo vowels me hai to count badha do.(.lower) case.. letter ko small kr deta h\n",
        "\n"
      ],
      "metadata": {
        "id": "F7vzdR5PoQV6"
      }
    },
    {
      "cell_type": "code",
      "source": [
        "def count_vowels(s):\n",
        "    vowels = 'aeiou'\n",
        "    s = s.lower()\n",
        "    count = 0\n",
        "    for char in s:\n",
        "        if char in vowels:\n",
        "            count += 1\n",
        "    return count\n",
        "\n",
        "\n",
        "print(count_vowels(\"Apple\"))\n"
      ],
      "metadata": {
        "colab": {
          "base_uri": "https://localhost:8080/"
        },
        "id": "Udk2BEXmoq_t",
        "outputId": "05c2d38d-c028-4c0a-efe7-bf7d9630421d"
      },
      "execution_count": 2,
      "outputs": [
        {
          "output_type": "stream",
          "name": "stdout",
          "text": [
            "2\n"
          ]
        }
      ]
    },
    {
      "cell_type": "markdown",
      "source": [
        "Problem 3: Sum of Digits..Ek number lena hai aur uske har digit ka sum nikalna hai..Number ko string me convert krna h har digit ko integer me convert karke add karo.\n",
        "\n"
      ],
      "metadata": {
        "id": "8r0CIkZJpCZG"
      }
    },
    {
      "cell_type": "code",
      "source": [
        "def sum_of_digits(n):\n",
        "    total = 0\n",
        "    for digit in str(n):\n",
        "        total += int(digit)\n",
        "    return total\n",
        "\n",
        "\n",
        "print(sum_of_digits(1224))\n"
      ],
      "metadata": {
        "colab": {
          "base_uri": "https://localhost:8080/"
        },
        "id": "pAfWDc25qNuv",
        "outputId": "71dfcf7b-2c92-470c-9530-4fe9008cf5ec"
      },
      "execution_count": 3,
      "outputs": [
        {
          "output_type": "stream",
          "name": "stdout",
          "text": [
            "9\n"
          ]
        }
      ]
    }
  ]
}